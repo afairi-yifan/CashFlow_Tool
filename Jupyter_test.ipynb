{
 "cells": [
  {
   "cell_type": "code",
   "execution_count": 4,
   "metadata": {
    "collapsed": true
   },
   "outputs": [
    {
     "ename": "IndentationError",
     "evalue": "expected an indented block after function definition on line 128 (Functions.py, line 130)",
     "output_type": "error",
     "traceback": [
      "Traceback \u001B[0;36m(most recent call last)\u001B[0m:\n",
      "\u001B[0m  File \u001B[1;32m~/miniconda3/envs/afairi-simulation/lib/python3.10/site-packages/IPython/core/interactiveshell.py:3433\u001B[0m in \u001B[1;35mrun_code\u001B[0m\n    exec(code_obj, self.user_global_ns, self.user_ns)\u001B[0m\n",
      "\u001B[0;36m  Cell \u001B[0;32mIn[4], line 10\u001B[0;36m\n\u001B[0;31m    from Functions.Functions import *\u001B[0;36m\n",
      "\u001B[0;36m  File \u001B[0;32m~/Desktop/Afairi-Work/Github/Cashflow_tool/Functions/Functions.py:130\u001B[0;36m\u001B[0m\n\u001B[0;31m    def output_financial_report(self):\u001B[0m\n\u001B[0m    ^\u001B[0m\n\u001B[0;31mIndentationError\u001B[0m\u001B[0;31m:\u001B[0m expected an indented block after function definition on line 128\n"
     ]
    }
   ],
   "source": [
    "import warnings\n",
    "import os\n",
    "import warnings\n",
    "import pandas as pd\n",
    "from pandas import ExcelWriter\n",
    "\n",
    "import Config.config\n",
    "import Config.config as cf\n",
    "import numpy as np\n",
    "from Functions.Functions import *\n",
    "warnings.simplefilter(action='ignore', category=FutureWarning)\n",
    "# warnings.simplefilter(action='ignore', category=pd.core.common.SettingWithCopyWarning)\n",
    "## autoreload reloads modules automatically before entering the execution of code\n",
    "%load_ext autoreload\n",
    "%autoreload 2"
   ]
  },
  {
   "cell_type": "code",
   "execution_count": 7,
   "outputs": [
    {
     "data": {
      "text/plain": "                       -12  -11  -10  -9   -8   -7   -6   -5   -4   -3    ...  \\\nMonth                                                                     ...   \n# Customer acquisition  NaN  NaN  NaN  NaN  NaN  NaN  NaN  NaN  NaN  NaN  ...   \n\n                        471  472  473  474  475  476  477  478  479  480  \nMonth                                                                     \n# Customer acquisition  950  950  950  950  950  950  950  950  950  950  \n\n[1 rows x 493 columns]",
      "text/html": "<div>\n<style scoped>\n    .dataframe tbody tr th:only-of-type {\n        vertical-align: middle;\n    }\n\n    .dataframe tbody tr th {\n        vertical-align: top;\n    }\n\n    .dataframe thead th {\n        text-align: right;\n    }\n</style>\n<table border=\"1\" class=\"dataframe\">\n  <thead>\n    <tr style=\"text-align: right;\">\n      <th></th>\n      <th>-12</th>\n      <th>-11</th>\n      <th>-10</th>\n      <th>-9</th>\n      <th>-8</th>\n      <th>-7</th>\n      <th>-6</th>\n      <th>-5</th>\n      <th>-4</th>\n      <th>-3</th>\n      <th>...</th>\n      <th>471</th>\n      <th>472</th>\n      <th>473</th>\n      <th>474</th>\n      <th>475</th>\n      <th>476</th>\n      <th>477</th>\n      <th>478</th>\n      <th>479</th>\n      <th>480</th>\n    </tr>\n    <tr>\n      <th>Month</th>\n      <th></th>\n      <th></th>\n      <th></th>\n      <th></th>\n      <th></th>\n      <th></th>\n      <th></th>\n      <th></th>\n      <th></th>\n      <th></th>\n      <th></th>\n      <th></th>\n      <th></th>\n      <th></th>\n      <th></th>\n      <th></th>\n      <th></th>\n      <th></th>\n      <th></th>\n      <th></th>\n      <th></th>\n    </tr>\n  </thead>\n  <tbody>\n    <tr>\n      <th># Customer acquisition</th>\n      <td>NaN</td>\n      <td>NaN</td>\n      <td>NaN</td>\n      <td>NaN</td>\n      <td>NaN</td>\n      <td>NaN</td>\n      <td>NaN</td>\n      <td>NaN</td>\n      <td>NaN</td>\n      <td>NaN</td>\n      <td>...</td>\n      <td>950</td>\n      <td>950</td>\n      <td>950</td>\n      <td>950</td>\n      <td>950</td>\n      <td>950</td>\n      <td>950</td>\n      <td>950</td>\n      <td>950</td>\n      <td>950</td>\n    </tr>\n  </tbody>\n</table>\n<p>1 rows × 493 columns</p>\n</div>"
     },
     "execution_count": 7,
     "metadata": {},
     "output_type": "execute_result"
    }
   ],
   "source": [
    "test = pd.read_excel(cf.data_path, sheet_name='Customer growth',skiprows=1)\n",
    "test.index = test['Month']\n",
    "test_copy = test.transpose()\n",
    "test_new = test_copy.loc[-12:480].transpose()\n",
    "test_new"
   ],
   "metadata": {
    "collapsed": false,
    "pycharm": {
     "name": "#%%\n"
    }
   }
  },
  {
   "cell_type": "code",
   "execution_count": 8,
   "outputs": [],
   "source": [
    "class DataLoader:\n",
    "    '''\n",
    "    To create list of output variables and list of dataframes.\n",
    "    '''\n",
    "    workflow_vars_sheet_name = 'Input_variables'\n",
    "    output_vars_sheet_name = 'Output_variables_layout'\n",
    "    def __init__(self, datapath, variable_path):\n",
    "        self.filepath = datapath\n",
    "        self.var_path = variable_path\n",
    "        # self.list_sheet_name = self.create_sheet_name(list_sheet_name)\n",
    "\n",
    "    def create_sheet_name(self, list_name):\n",
    "        lt = []\n",
    "        for name in list_name:\n",
    "            lt.append(f'Cohort {name}')\n",
    "        return lt\n",
    "    # def extract_data_from_list(self):\n",
    "    #     lt_data = []\n",
    "    #     for name in self.list_sheet_name:\n",
    "    #         df = pd.read_excel(self.filepath, sheet_name=name, skiprows=1)\n",
    "    #         improved_df = self.createDataFrameworkSuffix(df)\n",
    "    #         outputs = self.give_outputs_variables()[0]\n",
    "    #         df_new = self.creat_custom_dataframe(improved_df, outputs)\n",
    "    #         lt_data.append(df_new)\n",
    "    #     return lt_data\n",
    "\n",
    "    def createDataFrameworkSuffix(self, df):\n",
    "        df['Parameter'] = df['Parameter'] + '_' + df['Input/Output'] + '_' + df['Category']\n",
    "        return df\n",
    "\n",
    "    def output_variables(self, sheetname):\n",
    "        data = pd.read_excel(self.var_path, sheet_name=sheetname, skiprows=1)\n",
    "        df = self.createDataFrameworkSuffix(data)\n",
    "        outputs = list(df.loc[df['Input/Output'] == 'Output', 'Parameter'])\n",
    "        # inputs = list(df.loc[df['Input/Output'] == 'Input', 'Parameter'])\n",
    "        # tests = list(df.loc[df['Category'] == 'Cash_flow', 'Parameter'])\n",
    "        return outputs"
   ],
   "metadata": {
    "collapsed": false,
    "pycharm": {
     "name": "#%%\n"
    }
   }
  },
  {
   "cell_type": "code",
   "execution_count": 123,
   "outputs": [
    {
     "data": {
      "text/plain": "['Transacted_premium_volume_Output_Profit_Loss',\n 'ow_Origination_Output_Profit_Loss',\n 'Network_Output_Profit_Loss',\n 'ow_Underwriting_engine_Output_Profit_Loss',\n 'ow_Back_office_app_Output_Profit_Loss',\n 'Platform_Output_Profit_Loss',\n 'ow_Loss_Output_Profit_Loss',\n 'ow_Distribution_channel_Output_Profit_Loss',\n 'ow_expenses_Output_Profit_Loss',\n 'ow_outsourcing_Output_Profit_Loss',\n 'Costs_Output_Profit_Loss',\n 'Revenue_Output_Profit_Loss',\n 'Net_income_Output_Profit_Loss',\n 'Taxes_Output_Profit_Loss',\n 'NOPAT_Output_Profit_Loss',\n 'Accumulated_Output_Profit_Loss',\n 'Loss_Output_Profit_Loss_Carrier',\n 'Number_of_Customer_Output_Cash_flow',\n 'Transacted_premium_volume_Output_Cash_flow',\n 'ow_Origination_Output_Cash_flow',\n 'Network_Output_Cash_flow',\n 'ow_Underwriting_engine_Output_Cash_flow',\n 'ow_Back_office_app_Output_Cash_flow',\n 'Platform_Output_Cash_flow',\n 'ow_Loss_Output_Cash_flow',\n 'ow_Distribution_channel_Output_Cash_flow',\n 'ow_expenses_Output_Cash_flow',\n 'ow_outsourcing_Output_Cash_flow',\n 'Costs_Output_Cash_flow',\n 'Revenue_Output_Cash_flow',\n 'Net_income_Output_Cash_flow',\n 'Taxes_Output_Cash_flow',\n 'NOPAT_Output_Cash_flow',\n 'Working_capital_ow_Loss_Output_Cash_flow',\n 'Working_capital_ow_Distribution_channel_Output_Cash_flow',\n 'Working_capital_ow_expenses_Output_Cash_flow',\n 'Working_capital_Output_Cash_flow',\n 'Operating_cash_flow_Output_Cash_flow',\n 'Accumulated_Output_Cash_flow',\n 'ROIC_Output_Cash_flow',\n 'EMPTY___Output_Cash_flow',\n 'EMPTY___Output_Cash_flow',\n 'EMPTY___Output_Cash_flow']"
     },
     "execution_count": 123,
     "metadata": {},
     "output_type": "execute_result"
    }
   ],
   "source": [
    "dl = DataLoader(cf.data_path, cf.var_path)\n",
    "workflow = dl.output_variables(DataLoader.workflow_vars_sheet_name)\n",
    "output = dl.output_variables(DataLoader.output_vars_sheet_name)\n",
    "workflow"
   ],
   "metadata": {
    "collapsed": false,
    "pycharm": {
     "name": "#%%\n"
    }
   }
  },
  {
   "cell_type": "code",
   "execution_count": 124,
   "outputs": [
    {
     "data": {
      "text/plain": "['Transacted_premium_volume_Output_Profit_Loss',\n 'ow_Origination_Output_Profit_Loss',\n 'Network_Output_Profit_Loss',\n 'ow_Underwriting_engine_Output_Profit_Loss',\n 'ow_Back_office_app_Output_Profit_Loss',\n 'Platform_Output_Profit_Loss',\n 'ow_Loss_Output_Profit_Loss',\n 'ow_Distribution_channel_Output_Profit_Loss',\n 'ow_expenses_Output_Profit_Loss',\n 'ow_outsourcing_Output_Profit_Loss',\n 'Costs_Output_Profit_Loss',\n 'Revenue_Output_Profit_Loss',\n 'Net_income_Output_Profit_Loss',\n 'Taxes_Output_Profit_Loss',\n 'NOPAT_Output_Profit_Loss',\n 'Accumulated_Output_Profit_Loss',\n 'Loss_Output_Profit_Loss_Carrier',\n 'ow_Loss_Output_Intermediate',\n 'Taxes_Output_Intermediate',\n 'Number_of_Customer_Output_Cash_flow',\n 'Transacted_premium_volume_Output_Cash_flow',\n 'EMPTY___Output_Cash_flow',\n 'Revenue_Output_Cash_flow',\n 'EMPTY___Output_Cash_flow',\n 'Network_Output_Cash_flow',\n 'ow_Origination_Output_Cash_flow',\n 'Platform_Output_Cash_flow',\n 'ow_Underwriting_engine_Output_Cash_flow',\n 'ow_Back_office_app_Output_Cash_flow',\n 'EMPTY___Output_Cash_flow',\n 'Costs_Output_Cash_flow',\n 'ow_Distribution_channel_Output_Cash_flow',\n 'ow_expenses_Output_Cash_flow',\n 'ow_outsourcing_Output_Cash_flow',\n 'EMPTY___Output_Cash_flow',\n 'Net_income_Output_Cash_flow',\n 'NOPAT_Output_Cash_flow',\n 'EMPTY___Output_Cash_flow',\n 'Working_capital_Output_Cash_flow',\n 'Working_capital_ow_Loss_Output_Cash_flow',\n 'Working_capital_ow_Distribution_channel_Output_Cash_flow',\n 'Working_capital_ow_expenses_Output_Cash_flow',\n 'Operating_cash_flow_Output_Cash_flow']"
     },
     "execution_count": 124,
     "metadata": {},
     "output_type": "execute_result"
    }
   ],
   "source": [
    "output"
   ],
   "metadata": {
    "collapsed": false,
    "pycharm": {
     "name": "#%%\n"
    }
   }
  },
  {
   "cell_type": "code",
   "execution_count": 54,
   "outputs": [],
   "source": [
    "from openpyxl import load_workbook\n",
    "workbook = load_workbook(filename=cf.data_path)\n",
    "sheet_name = workbook.sheetnames"
   ],
   "metadata": {
    "collapsed": false,
    "pycharm": {
     "name": "#%%\n"
    }
   }
  },
  {
   "cell_type": "code",
   "execution_count": 55,
   "outputs": [],
   "source": [
    "single_value_df = [ x for x in sheet_name if x.__contains__('input Cohort') and not x.__contains__('-')]\n",
    "multipl_values_df = [ x for x in sheet_name if x.__contains__('input Cohort') and x.__contains__('-')]"
   ],
   "metadata": {
    "collapsed": false,
    "pycharm": {
     "name": "#%%\n"
    }
   }
  },
  {
   "cell_type": "code",
   "execution_count": 56,
   "outputs": [
    {
     "name": "stdout",
     "output_type": "stream",
     "text": [
      "['input Cohort M001', 'input Cohort M015'] ['input Cohort M025-030', 'input Cohort M016-020']\n"
     ]
    }
   ],
   "source": [
    "print(single_value_df, multipl_values_df)"
   ],
   "metadata": {
    "collapsed": false,
    "pycharm": {
     "name": "#%%\n"
    }
   }
  },
  {
   "cell_type": "code",
   "execution_count": 118,
   "outputs": [
    {
     "data": {
      "text/plain": "True"
     },
     "execution_count": 118,
     "metadata": {},
     "output_type": "execute_result"
    }
   ],
   "source": [
    "single_value_df = [ x for x in sheet_name if x.__contains__('input Cohort') and not x.__contains__('-')]\n",
    "single_val_list = [int(x.replace('input Cohort M',  '')) for x in single_value_df]\n",
    "single_val_dic = {single_val_list[idx]: single_value_df[idx] for idx in range(len(single_value_df))}\n",
    "1 in single_val_dic.keys()"
   ],
   "metadata": {
    "collapsed": false,
    "pycharm": {
     "name": "#%%\n"
    }
   }
  },
  {
   "cell_type": "code",
   "execution_count": 10,
   "outputs": [
    {
     "ename": "NameError",
     "evalue": "name 'sheet_name' is not defined",
     "output_type": "error",
     "traceback": [
      "\u001B[0;31m---------------------------------------------------------------------------\u001B[0m",
      "\u001B[0;31mNameError\u001B[0m                                 Traceback (most recent call last)",
      "Cell \u001B[0;32mIn[10], line 1\u001B[0m\n\u001B[0;32m----> 1\u001B[0m multipl_values_df \u001B[38;5;241m=\u001B[39m [ x \u001B[38;5;28;01mfor\u001B[39;00m x \u001B[38;5;129;01min\u001B[39;00m \u001B[43msheet_name\u001B[49m \u001B[38;5;28;01mif\u001B[39;00m x\u001B[38;5;241m.\u001B[39m\u001B[38;5;21m__contains__\u001B[39m(\u001B[38;5;124m'\u001B[39m\u001B[38;5;124minput Cohort\u001B[39m\u001B[38;5;124m'\u001B[39m) \u001B[38;5;129;01mand\u001B[39;00m x\u001B[38;5;241m.\u001B[39m\u001B[38;5;21m__contains__\u001B[39m(\u001B[38;5;124m'\u001B[39m\u001B[38;5;124m-\u001B[39m\u001B[38;5;124m'\u001B[39m)]\n\u001B[1;32m      2\u001B[0m multi_val_dic \u001B[38;5;241m=\u001B[39m {}\n\u001B[1;32m      3\u001B[0m \u001B[38;5;28;01mfor\u001B[39;00m idx \u001B[38;5;129;01min\u001B[39;00m \u001B[38;5;28mrange\u001B[39m(\u001B[38;5;28mlen\u001B[39m(multipl_values_df)):\n",
      "\u001B[0;31mNameError\u001B[0m: name 'sheet_name' is not defined"
     ]
    }
   ],
   "source": [
    "multipl_values_df = [ x for x in sheet_name if x.__contains__('input Cohort') and x.__contains__('-')]\n",
    "multi_val_dic = {}\n",
    "for idx in range(len(multipl_values_df)):\n",
    "    temp = multipl_values_df[idx]\n",
    "    z = temp.replace('input Cohort M',  '')\n",
    "    w = [int(x) for x in z.split(sep='-')]\n",
    "    new_range = range(w[0], w[-1])\n",
    "    multi_val_dic[new_range] = multipl_values_df[idx]\n",
    "lt = list(multi_val_dic.keys())\n",
    "lt"
   ],
   "metadata": {
    "collapsed": false,
    "pycharm": {
     "name": "#%%\n"
    }
   }
  },
  {
   "cell_type": "code",
   "execution_count": 53,
   "outputs": [
    {
     "data": {
      "text/plain": "range(16, 20)"
     },
     "execution_count": 53,
     "metadata": {},
     "output_type": "execute_result"
    }
   ],
   "source": [
    "st_example = 'input Cohort M016-020'\n",
    "z = st_example.replace('input Cohort M',  '')\n",
    "w = [int(x) for x in z.split(sep='-')]\n",
    "new_range = range(w[0], w[-1])\n",
    "new_range"
   ],
   "metadata": {
    "collapsed": false,
    "pycharm": {
     "name": "#%%\n"
    }
   }
  },
  {
   "cell_type": "code",
   "execution_count": 31,
   "outputs": [
    {
     "name": "stdout",
     "output_type": "stream",
     "text": [
      "range(0, 5)\n"
     ]
    }
   ],
   "source": [
    "lg = range(0, 5)\n",
    "print(lg)"
   ],
   "metadata": {
    "collapsed": false,
    "pycharm": {
     "name": "#%%\n"
    }
   }
  },
  {
   "cell_type": "code",
   "execution_count": 33,
   "outputs": [
    {
     "data": {
      "text/plain": "False"
     },
     "execution_count": 33,
     "metadata": {},
     "output_type": "execute_result"
    }
   ],
   "source": [
    "5 in lg"
   ],
   "metadata": {
    "collapsed": false,
    "pycharm": {
     "name": "#%%\n"
    }
   }
  },
  {
   "cell_type": "code",
   "execution_count": 34,
   "outputs": [],
   "source": [
    "dit = {1:{'input Cohort M001': pd.DataFrame()}}"
   ],
   "metadata": {
    "collapsed": false,
    "pycharm": {
     "name": "#%%\n"
    }
   }
  },
  {
   "cell_type": "code",
   "execution_count": 38,
   "outputs": [
    {
     "name": "stdout",
     "output_type": "stream",
     "text": [
      "1\n",
      "dict_keys(['input Cohort M001'])\n"
     ]
    }
   ],
   "source": [
    "for item in dit:\n",
    "    print(item)\n",
    "    print(dit[item].keys())"
   ],
   "metadata": {
    "collapsed": false,
    "pycharm": {
     "name": "#%%\n"
    }
   }
  },
  {
   "cell_type": "code",
   "execution_count": 60,
   "outputs": [],
   "source": [
    "def extract_dataframe_from_sheet(sheetname):\n",
    "    df = pd.read_excel(cf.data_path, sheet_name=sheetname, skiprows=1)\n",
    "    improved_df = createDataFrameworkSuffix(df)\n",
    "    index_names = improved_df['Parameter']\n",
    "    improved_df = improved_df.filter(like=\"Value\", axis=1)\n",
    "    improved_df.index = index_names\n",
    "    improved_df.columns = improved_df.loc['Month_Input_var'].astype('int')\n",
    "    return improved_df\n",
    "\n",
    "def createDataFrameworkSuffix( df):\n",
    "        df['Parameter'] = df['Parameter'] + '_' + df['Input/Output'] + '_' + df['Category']\n",
    "        return df"
   ],
   "metadata": {
    "collapsed": false,
    "pycharm": {
     "name": "#%%\n"
    }
   }
  },
  {
   "cell_type": "code",
   "execution_count": 57,
   "outputs": [
    {
     "data": {
      "text/plain": "Month_Input_var                                            0    1    2    3    \\\nParameter                                                                       \nMonth_Input_var                                       0.000000  1.0  2.0  3.0   \nStart_Customer_Input_var                            350.000000  NaN  NaN  NaN   \nStart_avg_premium_Input_var                          30.000000  NaN  NaN  NaN   \nRetention_monthly_Input_var                           0.800000  NaN  NaN  NaN   \nInflation_Input_var                                   1.030000  NaN  NaN  NaN   \nRevenue_share_of_premium_for_new_business_Input...    0.200000  NaN  NaN  NaN   \nRevenue_share_of_premium_for_renewal_Input_var        0.050000  NaN  NaN  NaN   \nUnderwriting_Relative_to_premium_based_on_impro...    0.019305  NaN  NaN  NaN   \nBackoffice_Relative_to_premium_based_on_improve...    0.010000  NaN  NaN  NaN   \nDistribution_channel_cost_as_share_of_premium_f...    0.000000  NaN  NaN  NaN   \nDistribution_channel_cost_as_share_of_premium_n...    0.000000  NaN  NaN  NaN   \nMGA_expense_ratio_as_share_of_premium_volume_fi...    0.054000  NaN  NaN  NaN   \nMGA_expense_ratio_as_share_of_premium_volume_ne...    0.054000  NaN  NaN  NaN   \nMGA_outsourcing_cost_ratio_as_share_of_premium_...    0.000000  NaN  NaN  NaN   \nMGA_outsourcing_cost_ratio_as_share_of_premium_...    0.000000  NaN  NaN  NaN   \nTaxes_as_share_of_net_income_Input_var                0.300000  NaN  NaN  NaN   \nCarrier_loss_on_premium_Input_var                     0.700000  NaN  NaN  NaN   \nWorking_capital_ratio_carrier_loss_Input_var          0.000000  NaN  NaN  NaN   \nWorking_capital_ratio_Distribution_channel_Inpu...    0.400000  NaN  NaN  NaN   \nWorking_capital_ratio_Expenses_Input_var              0.100000  NaN  NaN  NaN   \nWorking_capital_ratio_Outsourcing_Input_var           0.400000  NaN  NaN  NaN   \n\nMonth_Input_var                                     4    5    6    7    8    \\\nParameter                                                                     \nMonth_Input_var                                     4.0  5.0  6.0  7.0  8.0   \nStart_Customer_Input_var                            NaN  NaN  NaN  NaN  NaN   \nStart_avg_premium_Input_var                         NaN  NaN  NaN  NaN  NaN   \nRetention_monthly_Input_var                         NaN  NaN  NaN  NaN  NaN   \nInflation_Input_var                                 NaN  NaN  NaN  NaN  NaN   \nRevenue_share_of_premium_for_new_business_Input...  NaN  NaN  NaN  NaN  NaN   \nRevenue_share_of_premium_for_renewal_Input_var      NaN  NaN  NaN  NaN  NaN   \nUnderwriting_Relative_to_premium_based_on_impro...  NaN  NaN  NaN  NaN  NaN   \nBackoffice_Relative_to_premium_based_on_improve...  NaN  NaN  NaN  NaN  NaN   \nDistribution_channel_cost_as_share_of_premium_f...  NaN  NaN  NaN  NaN  NaN   \nDistribution_channel_cost_as_share_of_premium_n...  NaN  NaN  NaN  NaN  NaN   \nMGA_expense_ratio_as_share_of_premium_volume_fi...  NaN  NaN  NaN  NaN  NaN   \nMGA_expense_ratio_as_share_of_premium_volume_ne...  NaN  NaN  NaN  NaN  NaN   \nMGA_outsourcing_cost_ratio_as_share_of_premium_...  NaN  NaN  NaN  NaN  NaN   \nMGA_outsourcing_cost_ratio_as_share_of_premium_...  NaN  NaN  NaN  NaN  NaN   \nTaxes_as_share_of_net_income_Input_var              NaN  NaN  NaN  NaN  NaN   \nCarrier_loss_on_premium_Input_var                   NaN  NaN  NaN  NaN  NaN   \nWorking_capital_ratio_carrier_loss_Input_var        NaN  NaN  NaN  NaN  NaN   \nWorking_capital_ratio_Distribution_channel_Inpu...  NaN  NaN  NaN  NaN  NaN   \nWorking_capital_ratio_Expenses_Input_var            NaN  NaN  NaN  NaN  NaN   \nWorking_capital_ratio_Outsourcing_Input_var         NaN  NaN  NaN  NaN  NaN   \n\nMonth_Input_var                                     9    ...    231    232  \\\nParameter                                                ...                 \nMonth_Input_var                                     9.0  ...  231.0  232.0   \nStart_Customer_Input_var                            NaN  ...    NaN    NaN   \nStart_avg_premium_Input_var                         NaN  ...    NaN    NaN   \nRetention_monthly_Input_var                         NaN  ...    NaN    NaN   \nInflation_Input_var                                 NaN  ...    NaN    NaN   \nRevenue_share_of_premium_for_new_business_Input...  NaN  ...    NaN    NaN   \nRevenue_share_of_premium_for_renewal_Input_var      NaN  ...    NaN    NaN   \nUnderwriting_Relative_to_premium_based_on_impro...  NaN  ...    NaN    NaN   \nBackoffice_Relative_to_premium_based_on_improve...  NaN  ...    NaN    NaN   \nDistribution_channel_cost_as_share_of_premium_f...  NaN  ...    NaN    NaN   \nDistribution_channel_cost_as_share_of_premium_n...  NaN  ...    NaN    NaN   \nMGA_expense_ratio_as_share_of_premium_volume_fi...  NaN  ...    NaN    NaN   \nMGA_expense_ratio_as_share_of_premium_volume_ne...  NaN  ...    NaN    NaN   \nMGA_outsourcing_cost_ratio_as_share_of_premium_...  NaN  ...    NaN    NaN   \nMGA_outsourcing_cost_ratio_as_share_of_premium_...  NaN  ...    NaN    NaN   \nTaxes_as_share_of_net_income_Input_var              NaN  ...    NaN    NaN   \nCarrier_loss_on_premium_Input_var                   NaN  ...    NaN    NaN   \nWorking_capital_ratio_carrier_loss_Input_var        NaN  ...    NaN    NaN   \nWorking_capital_ratio_Distribution_channel_Inpu...  NaN  ...    NaN    NaN   \nWorking_capital_ratio_Expenses_Input_var            NaN  ...    NaN    NaN   \nWorking_capital_ratio_Outsourcing_Input_var         NaN  ...    NaN    NaN   \n\nMonth_Input_var                                       233    234    235  \\\nParameter                                                                 \nMonth_Input_var                                     233.0  234.0  235.0   \nStart_Customer_Input_var                              NaN    NaN    NaN   \nStart_avg_premium_Input_var                           NaN    NaN    NaN   \nRetention_monthly_Input_var                           NaN    NaN    NaN   \nInflation_Input_var                                   NaN    NaN    NaN   \nRevenue_share_of_premium_for_new_business_Input...    NaN    NaN    NaN   \nRevenue_share_of_premium_for_renewal_Input_var        NaN    NaN    NaN   \nUnderwriting_Relative_to_premium_based_on_impro...    NaN    NaN    NaN   \nBackoffice_Relative_to_premium_based_on_improve...    NaN    NaN    NaN   \nDistribution_channel_cost_as_share_of_premium_f...    NaN    NaN    NaN   \nDistribution_channel_cost_as_share_of_premium_n...    NaN    NaN    NaN   \nMGA_expense_ratio_as_share_of_premium_volume_fi...    NaN    NaN    NaN   \nMGA_expense_ratio_as_share_of_premium_volume_ne...    NaN    NaN    NaN   \nMGA_outsourcing_cost_ratio_as_share_of_premium_...    NaN    NaN    NaN   \nMGA_outsourcing_cost_ratio_as_share_of_premium_...    NaN    NaN    NaN   \nTaxes_as_share_of_net_income_Input_var                NaN    NaN    NaN   \nCarrier_loss_on_premium_Input_var                     NaN    NaN    NaN   \nWorking_capital_ratio_carrier_loss_Input_var          NaN    NaN    NaN   \nWorking_capital_ratio_Distribution_channel_Inpu...    NaN    NaN    NaN   \nWorking_capital_ratio_Expenses_Input_var              NaN    NaN    NaN   \nWorking_capital_ratio_Outsourcing_Input_var           NaN    NaN    NaN   \n\nMonth_Input_var                                       236    237    238  \\\nParameter                                                                 \nMonth_Input_var                                     236.0  237.0  238.0   \nStart_Customer_Input_var                              NaN    NaN    NaN   \nStart_avg_premium_Input_var                           NaN    NaN    NaN   \nRetention_monthly_Input_var                           NaN    NaN    NaN   \nInflation_Input_var                                   NaN    NaN    NaN   \nRevenue_share_of_premium_for_new_business_Input...    NaN    NaN    NaN   \nRevenue_share_of_premium_for_renewal_Input_var        NaN    NaN    NaN   \nUnderwriting_Relative_to_premium_based_on_impro...    NaN    NaN    NaN   \nBackoffice_Relative_to_premium_based_on_improve...    NaN    NaN    NaN   \nDistribution_channel_cost_as_share_of_premium_f...    NaN    NaN    NaN   \nDistribution_channel_cost_as_share_of_premium_n...    NaN    NaN    NaN   \nMGA_expense_ratio_as_share_of_premium_volume_fi...    NaN    NaN    NaN   \nMGA_expense_ratio_as_share_of_premium_volume_ne...    NaN    NaN    NaN   \nMGA_outsourcing_cost_ratio_as_share_of_premium_...    NaN    NaN    NaN   \nMGA_outsourcing_cost_ratio_as_share_of_premium_...    NaN    NaN    NaN   \nTaxes_as_share_of_net_income_Input_var                NaN    NaN    NaN   \nCarrier_loss_on_premium_Input_var                     NaN    NaN    NaN   \nWorking_capital_ratio_carrier_loss_Input_var          NaN    NaN    NaN   \nWorking_capital_ratio_Distribution_channel_Inpu...    NaN    NaN    NaN   \nWorking_capital_ratio_Expenses_Input_var              NaN    NaN    NaN   \nWorking_capital_ratio_Outsourcing_Input_var           NaN    NaN    NaN   \n\nMonth_Input_var                                       239    240  \nParameter                                                         \nMonth_Input_var                                     239.0  240.0  \nStart_Customer_Input_var                              NaN    NaN  \nStart_avg_premium_Input_var                           NaN    NaN  \nRetention_monthly_Input_var                           NaN    NaN  \nInflation_Input_var                                   NaN    NaN  \nRevenue_share_of_premium_for_new_business_Input...    NaN    NaN  \nRevenue_share_of_premium_for_renewal_Input_var        NaN    NaN  \nUnderwriting_Relative_to_premium_based_on_impro...    NaN    NaN  \nBackoffice_Relative_to_premium_based_on_improve...    NaN    NaN  \nDistribution_channel_cost_as_share_of_premium_f...    NaN    NaN  \nDistribution_channel_cost_as_share_of_premium_n...    NaN    NaN  \nMGA_expense_ratio_as_share_of_premium_volume_fi...    NaN    NaN  \nMGA_expense_ratio_as_share_of_premium_volume_ne...    NaN    NaN  \nMGA_outsourcing_cost_ratio_as_share_of_premium_...    NaN    NaN  \nMGA_outsourcing_cost_ratio_as_share_of_premium_...    NaN    NaN  \nTaxes_as_share_of_net_income_Input_var                NaN    NaN  \nCarrier_loss_on_premium_Input_var                     NaN    NaN  \nWorking_capital_ratio_carrier_loss_Input_var          NaN    NaN  \nWorking_capital_ratio_Distribution_channel_Inpu...    NaN    NaN  \nWorking_capital_ratio_Expenses_Input_var              NaN    NaN  \nWorking_capital_ratio_Outsourcing_Input_var           NaN    NaN  \n\n[21 rows x 241 columns]",
      "text/html": "<div>\n<style scoped>\n    .dataframe tbody tr th:only-of-type {\n        vertical-align: middle;\n    }\n\n    .dataframe tbody tr th {\n        vertical-align: top;\n    }\n\n    .dataframe thead th {\n        text-align: right;\n    }\n</style>\n<table border=\"1\" class=\"dataframe\">\n  <thead>\n    <tr style=\"text-align: right;\">\n      <th>Month_Input_var</th>\n      <th>0</th>\n      <th>1</th>\n      <th>2</th>\n      <th>3</th>\n      <th>4</th>\n      <th>5</th>\n      <th>6</th>\n      <th>7</th>\n      <th>8</th>\n      <th>9</th>\n      <th>...</th>\n      <th>231</th>\n      <th>232</th>\n      <th>233</th>\n      <th>234</th>\n      <th>235</th>\n      <th>236</th>\n      <th>237</th>\n      <th>238</th>\n      <th>239</th>\n      <th>240</th>\n    </tr>\n    <tr>\n      <th>Parameter</th>\n      <th></th>\n      <th></th>\n      <th></th>\n      <th></th>\n      <th></th>\n      <th></th>\n      <th></th>\n      <th></th>\n      <th></th>\n      <th></th>\n      <th></th>\n      <th></th>\n      <th></th>\n      <th></th>\n      <th></th>\n      <th></th>\n      <th></th>\n      <th></th>\n      <th></th>\n      <th></th>\n      <th></th>\n    </tr>\n  </thead>\n  <tbody>\n    <tr>\n      <th>Month_Input_var</th>\n      <td>0.000000</td>\n      <td>1.0</td>\n      <td>2.0</td>\n      <td>3.0</td>\n      <td>4.0</td>\n      <td>5.0</td>\n      <td>6.0</td>\n      <td>7.0</td>\n      <td>8.0</td>\n      <td>9.0</td>\n      <td>...</td>\n      <td>231.0</td>\n      <td>232.0</td>\n      <td>233.0</td>\n      <td>234.0</td>\n      <td>235.0</td>\n      <td>236.0</td>\n      <td>237.0</td>\n      <td>238.0</td>\n      <td>239.0</td>\n      <td>240.0</td>\n    </tr>\n    <tr>\n      <th>Start_Customer_Input_var</th>\n      <td>350.000000</td>\n      <td>NaN</td>\n      <td>NaN</td>\n      <td>NaN</td>\n      <td>NaN</td>\n      <td>NaN</td>\n      <td>NaN</td>\n      <td>NaN</td>\n      <td>NaN</td>\n      <td>NaN</td>\n      <td>...</td>\n      <td>NaN</td>\n      <td>NaN</td>\n      <td>NaN</td>\n      <td>NaN</td>\n      <td>NaN</td>\n      <td>NaN</td>\n      <td>NaN</td>\n      <td>NaN</td>\n      <td>NaN</td>\n      <td>NaN</td>\n    </tr>\n    <tr>\n      <th>Start_avg_premium_Input_var</th>\n      <td>30.000000</td>\n      <td>NaN</td>\n      <td>NaN</td>\n      <td>NaN</td>\n      <td>NaN</td>\n      <td>NaN</td>\n      <td>NaN</td>\n      <td>NaN</td>\n      <td>NaN</td>\n      <td>NaN</td>\n      <td>...</td>\n      <td>NaN</td>\n      <td>NaN</td>\n      <td>NaN</td>\n      <td>NaN</td>\n      <td>NaN</td>\n      <td>NaN</td>\n      <td>NaN</td>\n      <td>NaN</td>\n      <td>NaN</td>\n      <td>NaN</td>\n    </tr>\n    <tr>\n      <th>Retention_monthly_Input_var</th>\n      <td>0.800000</td>\n      <td>NaN</td>\n      <td>NaN</td>\n      <td>NaN</td>\n      <td>NaN</td>\n      <td>NaN</td>\n      <td>NaN</td>\n      <td>NaN</td>\n      <td>NaN</td>\n      <td>NaN</td>\n      <td>...</td>\n      <td>NaN</td>\n      <td>NaN</td>\n      <td>NaN</td>\n      <td>NaN</td>\n      <td>NaN</td>\n      <td>NaN</td>\n      <td>NaN</td>\n      <td>NaN</td>\n      <td>NaN</td>\n      <td>NaN</td>\n    </tr>\n    <tr>\n      <th>Inflation_Input_var</th>\n      <td>1.030000</td>\n      <td>NaN</td>\n      <td>NaN</td>\n      <td>NaN</td>\n      <td>NaN</td>\n      <td>NaN</td>\n      <td>NaN</td>\n      <td>NaN</td>\n      <td>NaN</td>\n      <td>NaN</td>\n      <td>...</td>\n      <td>NaN</td>\n      <td>NaN</td>\n      <td>NaN</td>\n      <td>NaN</td>\n      <td>NaN</td>\n      <td>NaN</td>\n      <td>NaN</td>\n      <td>NaN</td>\n      <td>NaN</td>\n      <td>NaN</td>\n    </tr>\n    <tr>\n      <th>Revenue_share_of_premium_for_new_business_Input_var</th>\n      <td>0.200000</td>\n      <td>NaN</td>\n      <td>NaN</td>\n      <td>NaN</td>\n      <td>NaN</td>\n      <td>NaN</td>\n      <td>NaN</td>\n      <td>NaN</td>\n      <td>NaN</td>\n      <td>NaN</td>\n      <td>...</td>\n      <td>NaN</td>\n      <td>NaN</td>\n      <td>NaN</td>\n      <td>NaN</td>\n      <td>NaN</td>\n      <td>NaN</td>\n      <td>NaN</td>\n      <td>NaN</td>\n      <td>NaN</td>\n      <td>NaN</td>\n    </tr>\n    <tr>\n      <th>Revenue_share_of_premium_for_renewal_Input_var</th>\n      <td>0.050000</td>\n      <td>NaN</td>\n      <td>NaN</td>\n      <td>NaN</td>\n      <td>NaN</td>\n      <td>NaN</td>\n      <td>NaN</td>\n      <td>NaN</td>\n      <td>NaN</td>\n      <td>NaN</td>\n      <td>...</td>\n      <td>NaN</td>\n      <td>NaN</td>\n      <td>NaN</td>\n      <td>NaN</td>\n      <td>NaN</td>\n      <td>NaN</td>\n      <td>NaN</td>\n      <td>NaN</td>\n      <td>NaN</td>\n      <td>NaN</td>\n    </tr>\n    <tr>\n      <th>Underwriting_Relative_to_premium_based_on_improvement_first_yr_Input_var</th>\n      <td>0.019305</td>\n      <td>NaN</td>\n      <td>NaN</td>\n      <td>NaN</td>\n      <td>NaN</td>\n      <td>NaN</td>\n      <td>NaN</td>\n      <td>NaN</td>\n      <td>NaN</td>\n      <td>NaN</td>\n      <td>...</td>\n      <td>NaN</td>\n      <td>NaN</td>\n      <td>NaN</td>\n      <td>NaN</td>\n      <td>NaN</td>\n      <td>NaN</td>\n      <td>NaN</td>\n      <td>NaN</td>\n      <td>NaN</td>\n      <td>NaN</td>\n    </tr>\n    <tr>\n      <th>Backoffice_Relative_to_premium_based_on_improvement_first_year_Input_var</th>\n      <td>0.010000</td>\n      <td>NaN</td>\n      <td>NaN</td>\n      <td>NaN</td>\n      <td>NaN</td>\n      <td>NaN</td>\n      <td>NaN</td>\n      <td>NaN</td>\n      <td>NaN</td>\n      <td>NaN</td>\n      <td>...</td>\n      <td>NaN</td>\n      <td>NaN</td>\n      <td>NaN</td>\n      <td>NaN</td>\n      <td>NaN</td>\n      <td>NaN</td>\n      <td>NaN</td>\n      <td>NaN</td>\n      <td>NaN</td>\n      <td>NaN</td>\n    </tr>\n    <tr>\n      <th>Distribution_channel_cost_as_share_of_premium_first_year_Input_var</th>\n      <td>0.000000</td>\n      <td>NaN</td>\n      <td>NaN</td>\n      <td>NaN</td>\n      <td>NaN</td>\n      <td>NaN</td>\n      <td>NaN</td>\n      <td>NaN</td>\n      <td>NaN</td>\n      <td>NaN</td>\n      <td>...</td>\n      <td>NaN</td>\n      <td>NaN</td>\n      <td>NaN</td>\n      <td>NaN</td>\n      <td>NaN</td>\n      <td>NaN</td>\n      <td>NaN</td>\n      <td>NaN</td>\n      <td>NaN</td>\n      <td>NaN</td>\n    </tr>\n    <tr>\n      <th>Distribution_channel_cost_as_share_of_premium_next_year_Input_var</th>\n      <td>0.000000</td>\n      <td>NaN</td>\n      <td>NaN</td>\n      <td>NaN</td>\n      <td>NaN</td>\n      <td>NaN</td>\n      <td>NaN</td>\n      <td>NaN</td>\n      <td>NaN</td>\n      <td>NaN</td>\n      <td>...</td>\n      <td>NaN</td>\n      <td>NaN</td>\n      <td>NaN</td>\n      <td>NaN</td>\n      <td>NaN</td>\n      <td>NaN</td>\n      <td>NaN</td>\n      <td>NaN</td>\n      <td>NaN</td>\n      <td>NaN</td>\n    </tr>\n    <tr>\n      <th>MGA_expense_ratio_as_share_of_premium_volume_first_year_Input_var</th>\n      <td>0.054000</td>\n      <td>NaN</td>\n      <td>NaN</td>\n      <td>NaN</td>\n      <td>NaN</td>\n      <td>NaN</td>\n      <td>NaN</td>\n      <td>NaN</td>\n      <td>NaN</td>\n      <td>NaN</td>\n      <td>...</td>\n      <td>NaN</td>\n      <td>NaN</td>\n      <td>NaN</td>\n      <td>NaN</td>\n      <td>NaN</td>\n      <td>NaN</td>\n      <td>NaN</td>\n      <td>NaN</td>\n      <td>NaN</td>\n      <td>NaN</td>\n    </tr>\n    <tr>\n      <th>MGA_expense_ratio_as_share_of_premium_volume_next_year_Input_var</th>\n      <td>0.054000</td>\n      <td>NaN</td>\n      <td>NaN</td>\n      <td>NaN</td>\n      <td>NaN</td>\n      <td>NaN</td>\n      <td>NaN</td>\n      <td>NaN</td>\n      <td>NaN</td>\n      <td>NaN</td>\n      <td>...</td>\n      <td>NaN</td>\n      <td>NaN</td>\n      <td>NaN</td>\n      <td>NaN</td>\n      <td>NaN</td>\n      <td>NaN</td>\n      <td>NaN</td>\n      <td>NaN</td>\n      <td>NaN</td>\n      <td>NaN</td>\n    </tr>\n    <tr>\n      <th>MGA_outsourcing_cost_ratio_as_share_of_premium_volume_first_year_Input_var</th>\n      <td>0.000000</td>\n      <td>NaN</td>\n      <td>NaN</td>\n      <td>NaN</td>\n      <td>NaN</td>\n      <td>NaN</td>\n      <td>NaN</td>\n      <td>NaN</td>\n      <td>NaN</td>\n      <td>NaN</td>\n      <td>...</td>\n      <td>NaN</td>\n      <td>NaN</td>\n      <td>NaN</td>\n      <td>NaN</td>\n      <td>NaN</td>\n      <td>NaN</td>\n      <td>NaN</td>\n      <td>NaN</td>\n      <td>NaN</td>\n      <td>NaN</td>\n    </tr>\n    <tr>\n      <th>MGA_outsourcing_cost_ratio_as_share_of_premium_volume_next_year_Input_var</th>\n      <td>0.000000</td>\n      <td>NaN</td>\n      <td>NaN</td>\n      <td>NaN</td>\n      <td>NaN</td>\n      <td>NaN</td>\n      <td>NaN</td>\n      <td>NaN</td>\n      <td>NaN</td>\n      <td>NaN</td>\n      <td>...</td>\n      <td>NaN</td>\n      <td>NaN</td>\n      <td>NaN</td>\n      <td>NaN</td>\n      <td>NaN</td>\n      <td>NaN</td>\n      <td>NaN</td>\n      <td>NaN</td>\n      <td>NaN</td>\n      <td>NaN</td>\n    </tr>\n    <tr>\n      <th>Taxes_as_share_of_net_income_Input_var</th>\n      <td>0.300000</td>\n      <td>NaN</td>\n      <td>NaN</td>\n      <td>NaN</td>\n      <td>NaN</td>\n      <td>NaN</td>\n      <td>NaN</td>\n      <td>NaN</td>\n      <td>NaN</td>\n      <td>NaN</td>\n      <td>...</td>\n      <td>NaN</td>\n      <td>NaN</td>\n      <td>NaN</td>\n      <td>NaN</td>\n      <td>NaN</td>\n      <td>NaN</td>\n      <td>NaN</td>\n      <td>NaN</td>\n      <td>NaN</td>\n      <td>NaN</td>\n    </tr>\n    <tr>\n      <th>Carrier_loss_on_premium_Input_var</th>\n      <td>0.700000</td>\n      <td>NaN</td>\n      <td>NaN</td>\n      <td>NaN</td>\n      <td>NaN</td>\n      <td>NaN</td>\n      <td>NaN</td>\n      <td>NaN</td>\n      <td>NaN</td>\n      <td>NaN</td>\n      <td>...</td>\n      <td>NaN</td>\n      <td>NaN</td>\n      <td>NaN</td>\n      <td>NaN</td>\n      <td>NaN</td>\n      <td>NaN</td>\n      <td>NaN</td>\n      <td>NaN</td>\n      <td>NaN</td>\n      <td>NaN</td>\n    </tr>\n    <tr>\n      <th>Working_capital_ratio_carrier_loss_Input_var</th>\n      <td>0.000000</td>\n      <td>NaN</td>\n      <td>NaN</td>\n      <td>NaN</td>\n      <td>NaN</td>\n      <td>NaN</td>\n      <td>NaN</td>\n      <td>NaN</td>\n      <td>NaN</td>\n      <td>NaN</td>\n      <td>...</td>\n      <td>NaN</td>\n      <td>NaN</td>\n      <td>NaN</td>\n      <td>NaN</td>\n      <td>NaN</td>\n      <td>NaN</td>\n      <td>NaN</td>\n      <td>NaN</td>\n      <td>NaN</td>\n      <td>NaN</td>\n    </tr>\n    <tr>\n      <th>Working_capital_ratio_Distribution_channel_Input_var</th>\n      <td>0.400000</td>\n      <td>NaN</td>\n      <td>NaN</td>\n      <td>NaN</td>\n      <td>NaN</td>\n      <td>NaN</td>\n      <td>NaN</td>\n      <td>NaN</td>\n      <td>NaN</td>\n      <td>NaN</td>\n      <td>...</td>\n      <td>NaN</td>\n      <td>NaN</td>\n      <td>NaN</td>\n      <td>NaN</td>\n      <td>NaN</td>\n      <td>NaN</td>\n      <td>NaN</td>\n      <td>NaN</td>\n      <td>NaN</td>\n      <td>NaN</td>\n    </tr>\n    <tr>\n      <th>Working_capital_ratio_Expenses_Input_var</th>\n      <td>0.100000</td>\n      <td>NaN</td>\n      <td>NaN</td>\n      <td>NaN</td>\n      <td>NaN</td>\n      <td>NaN</td>\n      <td>NaN</td>\n      <td>NaN</td>\n      <td>NaN</td>\n      <td>NaN</td>\n      <td>...</td>\n      <td>NaN</td>\n      <td>NaN</td>\n      <td>NaN</td>\n      <td>NaN</td>\n      <td>NaN</td>\n      <td>NaN</td>\n      <td>NaN</td>\n      <td>NaN</td>\n      <td>NaN</td>\n      <td>NaN</td>\n    </tr>\n    <tr>\n      <th>Working_capital_ratio_Outsourcing_Input_var</th>\n      <td>0.400000</td>\n      <td>NaN</td>\n      <td>NaN</td>\n      <td>NaN</td>\n      <td>NaN</td>\n      <td>NaN</td>\n      <td>NaN</td>\n      <td>NaN</td>\n      <td>NaN</td>\n      <td>NaN</td>\n      <td>...</td>\n      <td>NaN</td>\n      <td>NaN</td>\n      <td>NaN</td>\n      <td>NaN</td>\n      <td>NaN</td>\n      <td>NaN</td>\n      <td>NaN</td>\n      <td>NaN</td>\n      <td>NaN</td>\n      <td>NaN</td>\n    </tr>\n  </tbody>\n</table>\n<p>21 rows × 241 columns</p>\n</div>"
     },
     "execution_count": 57,
     "metadata": {},
     "output_type": "execute_result"
    }
   ],
   "source": [
    "df = pd.read_excel(cf.data_path, sheet_name='input Cohort M001', skiprows=1)\n",
    "improved_df = createDataFrameworkSuffix(df)\n",
    "index_names = improved_df['Parameter']\n",
    "improved_df = improved_df.filter(like=\"Value\", axis=1)\n",
    "improved_df.index = index_names\n",
    "improved_df.columns = improved_df.loc['Month_Input_var'].astype('int')\n",
    "improved_df"
   ],
   "metadata": {
    "collapsed": false,
    "pycharm": {
     "name": "#%%\n"
    }
   }
  },
  {
   "cell_type": "code",
   "execution_count": 55,
   "outputs": [
    {
     "data": {
      "text/plain": "['Month_Input_var',\n 'Start_Customer_Input_var',\n 'Start_avg_premium_Input_var',\n 'Retention_monthly_Input_var',\n 'Inflation_Input_var',\n 'Revenue_share_of_premium_for_new_business_Input_var',\n 'Revenue_share_of_premium_for_renewal_Input_var',\n 'Underwriting_Relative_to_premium_based_on_improvement_first_yr_Input_var',\n 'Backoffice_Relative_to_premium_based_on_improvement_first_year_Input_var',\n 'Distribution_channel_cost_as_share_of_premium_first_year_Input_var',\n 'Distribution_channel_cost_as_share_of_premium_next_year_Input_var',\n 'MGA_expense_ratio_as_share_of_premium_volume_first_year_Input_var',\n 'MGA_expense_ratio_as_share_of_premium_volume_next_year_Input_var',\n 'MGA_outsourcing_cost_ratio_as_share_of_premium_volume_first_year_Input_var',\n 'MGA_outsourcing_cost_ratio_as_share_of_premium_volume_next_year_Input_var',\n 'Taxes_as_share_of_net_income_Input_var',\n 'Carrier_loss_on_premium_Input_var',\n 'Working_capital_ratio_carrier_loss_Input_var',\n 'Working_capital_ratio_Distribution_channel_Input_var',\n 'Working_capital_ratio_Expenses_Input_var',\n 'Working_capital_ratio_Outsourcing_Input_var']"
     },
     "execution_count": 55,
     "metadata": {},
     "output_type": "execute_result"
    }
   ],
   "source": [
    "list_var = ['One','Tow']\n",
    "df = extract_dataframe_from_sheet('input Cohort M001')\n",
    "var_in = list(df.index)\n",
    "var_in"
   ],
   "metadata": {
    "collapsed": false,
    "pycharm": {
     "name": "#%%\n"
    }
   }
  },
  {
   "cell_type": "code",
   "execution_count": 116,
   "outputs": [
    {
     "data": {
      "text/plain": "     Month_Input_var  Start_Customer_Input_var  Start_avg_premium_Input_var  \\\n-11                0                         0                            0   \n-10                0                         0                            0   \n-9                 0                         0                            0   \n-8                 0                         0                            0   \n-7                 0                         0                            0   \n-6                 0                         0                            0   \n-5                 0                         0                            0   \n-4                 0                         0                            0   \n-3                 0                         0                            0   \n-2                 0                         0                            0   \n-1                 0                         0                            0   \n\n     Retention_monthly_Input_var  Inflation_Input_var  \\\n-11                            0                    0   \n-10                            0                    0   \n-9                             0                    0   \n-8                             0                    0   \n-7                             0                    0   \n-6                             0                    0   \n-5                             0                    0   \n-4                             0                    0   \n-3                             0                    0   \n-2                             0                    0   \n-1                             0                    0   \n\n     Revenue_share_of_premium_for_new_business_Input_var  \\\n-11                                                  0     \n-10                                                  0     \n-9                                                   0     \n-8                                                   0     \n-7                                                   0     \n-6                                                   0     \n-5                                                   0     \n-4                                                   0     \n-3                                                   0     \n-2                                                   0     \n-1                                                   0     \n\n     Revenue_share_of_premium_for_renewal_Input_var  \\\n-11                                               0   \n-10                                               0   \n-9                                                0   \n-8                                                0   \n-7                                                0   \n-6                                                0   \n-5                                                0   \n-4                                                0   \n-3                                                0   \n-2                                                0   \n-1                                                0   \n\n     Underwriting_Relative_to_premium_based_on_improvement_first_yr_Input_var  \\\n-11                                                  0                          \n-10                                                  0                          \n-9                                                   0                          \n-8                                                   0                          \n-7                                                   0                          \n-6                                                   0                          \n-5                                                   0                          \n-4                                                   0                          \n-3                                                   0                          \n-2                                                   0                          \n-1                                                   0                          \n\n     Backoffice_Relative_to_premium_based_on_improvement_first_year_Input_var  \\\n-11                                                  0                          \n-10                                                  0                          \n-9                                                   0                          \n-8                                                   0                          \n-7                                                   0                          \n-6                                                   0                          \n-5                                                   0                          \n-4                                                   0                          \n-3                                                   0                          \n-2                                                   0                          \n-1                                                   0                          \n\n     Distribution_channel_cost_as_share_of_premium_first_year_Input_var  ...  \\\n-11                                                  0                   ...   \n-10                                                  0                   ...   \n-9                                                   0                   ...   \n-8                                                   0                   ...   \n-7                                                   0                   ...   \n-6                                                   0                   ...   \n-5                                                   0                   ...   \n-4                                                   0                   ...   \n-3                                                   0                   ...   \n-2                                                   0                   ...   \n-1                                                   0                   ...   \n\n     MGA_expense_ratio_as_share_of_premium_volume_first_year_Input_var  \\\n-11                                                  0                   \n-10                                                  0                   \n-9                                                   0                   \n-8                                                   0                   \n-7                                                   0                   \n-6                                                   0                   \n-5                                                   0                   \n-4                                                   0                   \n-3                                                   0                   \n-2                                                   0                   \n-1                                                   0                   \n\n     MGA_expense_ratio_as_share_of_premium_volume_next_year_Input_var  \\\n-11                                                  0                  \n-10                                                  0                  \n-9                                                   0                  \n-8                                                   0                  \n-7                                                   0                  \n-6                                                   0                  \n-5                                                   0                  \n-4                                                   0                  \n-3                                                   0                  \n-2                                                   0                  \n-1                                                   0                  \n\n     MGA_outsourcing_cost_ratio_as_share_of_premium_volume_first_year_Input_var  \\\n-11                                                  0                            \n-10                                                  0                            \n-9                                                   0                            \n-8                                                   0                            \n-7                                                   0                            \n-6                                                   0                            \n-5                                                   0                            \n-4                                                   0                            \n-3                                                   0                            \n-2                                                   0                            \n-1                                                   0                            \n\n     MGA_outsourcing_cost_ratio_as_share_of_premium_volume_next_year_Input_var  \\\n-11                                                  0                           \n-10                                                  0                           \n-9                                                   0                           \n-8                                                   0                           \n-7                                                   0                           \n-6                                                   0                           \n-5                                                   0                           \n-4                                                   0                           \n-3                                                   0                           \n-2                                                   0                           \n-1                                                   0                           \n\n     Taxes_as_share_of_net_income_Input_var  \\\n-11                                       0   \n-10                                       0   \n-9                                        0   \n-8                                        0   \n-7                                        0   \n-6                                        0   \n-5                                        0   \n-4                                        0   \n-3                                        0   \n-2                                        0   \n-1                                        0   \n\n     Carrier_loss_on_premium_Input_var  \\\n-11                                  0   \n-10                                  0   \n-9                                   0   \n-8                                   0   \n-7                                   0   \n-6                                   0   \n-5                                   0   \n-4                                   0   \n-3                                   0   \n-2                                   0   \n-1                                   0   \n\n     Working_capital_ratio_carrier_loss_Input_var  \\\n-11                                             0   \n-10                                             0   \n-9                                              0   \n-8                                              0   \n-7                                              0   \n-6                                              0   \n-5                                              0   \n-4                                              0   \n-3                                              0   \n-2                                              0   \n-1                                              0   \n\n     Working_capital_ratio_Distribution_channel_Input_var  \\\n-11                                                  0      \n-10                                                  0      \n-9                                                   0      \n-8                                                   0      \n-7                                                   0      \n-6                                                   0      \n-5                                                   0      \n-4                                                   0      \n-3                                                   0      \n-2                                                   0      \n-1                                                   0      \n\n     Working_capital_ratio_Expenses_Input_var  \\\n-11                                         0   \n-10                                         0   \n-9                                          0   \n-8                                          0   \n-7                                          0   \n-6                                          0   \n-5                                          0   \n-4                                          0   \n-3                                          0   \n-2                                          0   \n-1                                          0   \n\n     Working_capital_ratio_Outsourcing_Input_var  \n-11                                            0  \n-10                                            0  \n-9                                             0  \n-8                                             0  \n-7                                             0  \n-6                                             0  \n-5                                             0  \n-4                                             0  \n-3                                             0  \n-2                                             0  \n-1                                             0  \n\n[11 rows x 21 columns]",
      "text/html": "<div>\n<style scoped>\n    .dataframe tbody tr th:only-of-type {\n        vertical-align: middle;\n    }\n\n    .dataframe tbody tr th {\n        vertical-align: top;\n    }\n\n    .dataframe thead th {\n        text-align: right;\n    }\n</style>\n<table border=\"1\" class=\"dataframe\">\n  <thead>\n    <tr style=\"text-align: right;\">\n      <th></th>\n      <th>Month_Input_var</th>\n      <th>Start_Customer_Input_var</th>\n      <th>Start_avg_premium_Input_var</th>\n      <th>Retention_monthly_Input_var</th>\n      <th>Inflation_Input_var</th>\n      <th>Revenue_share_of_premium_for_new_business_Input_var</th>\n      <th>Revenue_share_of_premium_for_renewal_Input_var</th>\n      <th>Underwriting_Relative_to_premium_based_on_improvement_first_yr_Input_var</th>\n      <th>Backoffice_Relative_to_premium_based_on_improvement_first_year_Input_var</th>\n      <th>Distribution_channel_cost_as_share_of_premium_first_year_Input_var</th>\n      <th>...</th>\n      <th>MGA_expense_ratio_as_share_of_premium_volume_first_year_Input_var</th>\n      <th>MGA_expense_ratio_as_share_of_premium_volume_next_year_Input_var</th>\n      <th>MGA_outsourcing_cost_ratio_as_share_of_premium_volume_first_year_Input_var</th>\n      <th>MGA_outsourcing_cost_ratio_as_share_of_premium_volume_next_year_Input_var</th>\n      <th>Taxes_as_share_of_net_income_Input_var</th>\n      <th>Carrier_loss_on_premium_Input_var</th>\n      <th>Working_capital_ratio_carrier_loss_Input_var</th>\n      <th>Working_capital_ratio_Distribution_channel_Input_var</th>\n      <th>Working_capital_ratio_Expenses_Input_var</th>\n      <th>Working_capital_ratio_Outsourcing_Input_var</th>\n    </tr>\n  </thead>\n  <tbody>\n    <tr>\n      <th>-11</th>\n      <td>0</td>\n      <td>0</td>\n      <td>0</td>\n      <td>0</td>\n      <td>0</td>\n      <td>0</td>\n      <td>0</td>\n      <td>0</td>\n      <td>0</td>\n      <td>0</td>\n      <td>...</td>\n      <td>0</td>\n      <td>0</td>\n      <td>0</td>\n      <td>0</td>\n      <td>0</td>\n      <td>0</td>\n      <td>0</td>\n      <td>0</td>\n      <td>0</td>\n      <td>0</td>\n    </tr>\n    <tr>\n      <th>-10</th>\n      <td>0</td>\n      <td>0</td>\n      <td>0</td>\n      <td>0</td>\n      <td>0</td>\n      <td>0</td>\n      <td>0</td>\n      <td>0</td>\n      <td>0</td>\n      <td>0</td>\n      <td>...</td>\n      <td>0</td>\n      <td>0</td>\n      <td>0</td>\n      <td>0</td>\n      <td>0</td>\n      <td>0</td>\n      <td>0</td>\n      <td>0</td>\n      <td>0</td>\n      <td>0</td>\n    </tr>\n    <tr>\n      <th>-9</th>\n      <td>0</td>\n      <td>0</td>\n      <td>0</td>\n      <td>0</td>\n      <td>0</td>\n      <td>0</td>\n      <td>0</td>\n      <td>0</td>\n      <td>0</td>\n      <td>0</td>\n      <td>...</td>\n      <td>0</td>\n      <td>0</td>\n      <td>0</td>\n      <td>0</td>\n      <td>0</td>\n      <td>0</td>\n      <td>0</td>\n      <td>0</td>\n      <td>0</td>\n      <td>0</td>\n    </tr>\n    <tr>\n      <th>-8</th>\n      <td>0</td>\n      <td>0</td>\n      <td>0</td>\n      <td>0</td>\n      <td>0</td>\n      <td>0</td>\n      <td>0</td>\n      <td>0</td>\n      <td>0</td>\n      <td>0</td>\n      <td>...</td>\n      <td>0</td>\n      <td>0</td>\n      <td>0</td>\n      <td>0</td>\n      <td>0</td>\n      <td>0</td>\n      <td>0</td>\n      <td>0</td>\n      <td>0</td>\n      <td>0</td>\n    </tr>\n    <tr>\n      <th>-7</th>\n      <td>0</td>\n      <td>0</td>\n      <td>0</td>\n      <td>0</td>\n      <td>0</td>\n      <td>0</td>\n      <td>0</td>\n      <td>0</td>\n      <td>0</td>\n      <td>0</td>\n      <td>...</td>\n      <td>0</td>\n      <td>0</td>\n      <td>0</td>\n      <td>0</td>\n      <td>0</td>\n      <td>0</td>\n      <td>0</td>\n      <td>0</td>\n      <td>0</td>\n      <td>0</td>\n    </tr>\n    <tr>\n      <th>-6</th>\n      <td>0</td>\n      <td>0</td>\n      <td>0</td>\n      <td>0</td>\n      <td>0</td>\n      <td>0</td>\n      <td>0</td>\n      <td>0</td>\n      <td>0</td>\n      <td>0</td>\n      <td>...</td>\n      <td>0</td>\n      <td>0</td>\n      <td>0</td>\n      <td>0</td>\n      <td>0</td>\n      <td>0</td>\n      <td>0</td>\n      <td>0</td>\n      <td>0</td>\n      <td>0</td>\n    </tr>\n    <tr>\n      <th>-5</th>\n      <td>0</td>\n      <td>0</td>\n      <td>0</td>\n      <td>0</td>\n      <td>0</td>\n      <td>0</td>\n      <td>0</td>\n      <td>0</td>\n      <td>0</td>\n      <td>0</td>\n      <td>...</td>\n      <td>0</td>\n      <td>0</td>\n      <td>0</td>\n      <td>0</td>\n      <td>0</td>\n      <td>0</td>\n      <td>0</td>\n      <td>0</td>\n      <td>0</td>\n      <td>0</td>\n    </tr>\n    <tr>\n      <th>-4</th>\n      <td>0</td>\n      <td>0</td>\n      <td>0</td>\n      <td>0</td>\n      <td>0</td>\n      <td>0</td>\n      <td>0</td>\n      <td>0</td>\n      <td>0</td>\n      <td>0</td>\n      <td>...</td>\n      <td>0</td>\n      <td>0</td>\n      <td>0</td>\n      <td>0</td>\n      <td>0</td>\n      <td>0</td>\n      <td>0</td>\n      <td>0</td>\n      <td>0</td>\n      <td>0</td>\n    </tr>\n    <tr>\n      <th>-3</th>\n      <td>0</td>\n      <td>0</td>\n      <td>0</td>\n      <td>0</td>\n      <td>0</td>\n      <td>0</td>\n      <td>0</td>\n      <td>0</td>\n      <td>0</td>\n      <td>0</td>\n      <td>...</td>\n      <td>0</td>\n      <td>0</td>\n      <td>0</td>\n      <td>0</td>\n      <td>0</td>\n      <td>0</td>\n      <td>0</td>\n      <td>0</td>\n      <td>0</td>\n      <td>0</td>\n    </tr>\n    <tr>\n      <th>-2</th>\n      <td>0</td>\n      <td>0</td>\n      <td>0</td>\n      <td>0</td>\n      <td>0</td>\n      <td>0</td>\n      <td>0</td>\n      <td>0</td>\n      <td>0</td>\n      <td>0</td>\n      <td>...</td>\n      <td>0</td>\n      <td>0</td>\n      <td>0</td>\n      <td>0</td>\n      <td>0</td>\n      <td>0</td>\n      <td>0</td>\n      <td>0</td>\n      <td>0</td>\n      <td>0</td>\n    </tr>\n    <tr>\n      <th>-1</th>\n      <td>0</td>\n      <td>0</td>\n      <td>0</td>\n      <td>0</td>\n      <td>0</td>\n      <td>0</td>\n      <td>0</td>\n      <td>0</td>\n      <td>0</td>\n      <td>0</td>\n      <td>...</td>\n      <td>0</td>\n      <td>0</td>\n      <td>0</td>\n      <td>0</td>\n      <td>0</td>\n      <td>0</td>\n      <td>0</td>\n      <td>0</td>\n      <td>0</td>\n      <td>0</td>\n    </tr>\n  </tbody>\n</table>\n<p>11 rows × 21 columns</p>\n</div>"
     },
     "execution_count": 116,
     "metadata": {},
     "output_type": "execute_result"
    }
   ],
   "source": [
    "test_df = pd.DataFrame(0, index=range(-11, 0), columns=var_in)\n",
    "test_df"
   ],
   "metadata": {
    "collapsed": false,
    "pycharm": {
     "name": "#%%\n"
    }
   }
  },
  {
   "cell_type": "code",
   "execution_count": 117,
   "outputs": [
    {
     "data": {
      "text/plain": "Index(['Month_Input_var', 'Start_Customer_Input_var',\n       'Start_avg_premium_Input_var', 'Retention_yearly_Input_var',\n       'Inflation_Input_var',\n       'Revenue_share_of_premium_for_new_business_Input_var',\n       'Revenue_share_of_premium_for_renewal_Input_var',\n       'Underwriting_Relative_to_premium_based_on_improvement_first_yr_Input_var',\n       'Backoffice_Relative_to_premium_based_on_improvement_first_year_Input_var',\n       'Distribution_channel_cost_as_share_of_premium_first_year_Input_var',\n       'Distribution_channel_cost_as_share_of_premium_next_year_Input_var',\n       'MGA_expense_ratio_as_share_of_premium_volume_first_year_Input_var',\n       'MGA_expense_ratio_as_share_of_premium_volume_next_year_Input_var',\n       'MGA_outsourcing_cost_ratio_as_share_of_premium_volume_first_year_Input_var',\n       'MGA_outsourcing_cost_ratio_as_share_of_premium_volume_next_year_Input_var',\n       'Taxes_as_share_of_net_income_Input_var',\n       'Carrier_loss_on_premium_Input_var',\n       'Working_capital_ratio_carrier_loss_Input_var',\n       'Working_capital_ratio_Distribution_channel_Input_var',\n       'Working_capital_ratio_Expenses_Input_var',\n       'Working_capital_ratio_Outsourcing_Input_var'],\n      dtype='object', name='Parameter')"
     },
     "execution_count": 117,
     "metadata": {},
     "output_type": "execute_result"
    }
   ],
   "source": [
    "import numpy as np\n",
    "list_var = ['One','Tow']\n",
    "df = extract_dataframe_from_sheet('input Cohort M001')\n",
    "\n",
    "new_df = df.transpose()\n",
    "# new_df.index = new_df['Month_Input_var'].astype(np.int64)\n",
    "# new_df['Month_Input_var']\n",
    "df_ew = df.copy()\n",
    "new_df.columns"
   ],
   "metadata": {
    "collapsed": false,
    "pycharm": {
     "name": "#%%\n"
    }
   }
  },
  {
   "cell_type": "code",
   "execution_count": 121,
   "outputs": [
    {
     "data": {
      "text/plain": "21"
     },
     "execution_count": 121,
     "metadata": {},
     "output_type": "execute_result"
    }
   ],
   "source": [
    "row = new_df.loc[[3]]\n",
    "# row['Parameter'] = [44]\n",
    "row.index = [9]\n",
    "row_test = row.loc[9]\n",
    "len(row_test)"
   ],
   "metadata": {
    "collapsed": false,
    "pycharm": {
     "name": "#%%\n"
    }
   }
  },
  {
   "cell_type": "code",
   "execution_count": 122,
   "outputs": [
    {
     "data": {
      "text/plain": "21"
     },
     "execution_count": 122,
     "metadata": {},
     "output_type": "execute_result"
    }
   ],
   "source": [
    "len(test_df.columns)"
   ],
   "metadata": {
    "collapsed": false,
    "pycharm": {
     "name": "#%%\n"
    }
   }
  },
  {
   "cell_type": "code",
   "execution_count": 119,
   "outputs": [
    {
     "data": {
      "text/plain": "     Month_Input_var  Start_Customer_Input_var  Start_avg_premium_Input_var  \\\n-11              0.0                       0.0                          0.0   \n-10              0.0                       0.0                          0.0   \n-9               0.0                       0.0                          0.0   \n-8               0.0                       0.0                          0.0   \n-7               0.0                       0.0                          0.0   \n-6               0.0                       0.0                          0.0   \n-5               0.0                       0.0                          0.0   \n-4               0.0                       0.0                          0.0   \n-3               0.0                       0.0                          0.0   \n-2               0.0                       0.0                          0.0   \n-1               0.0                       0.0                          0.0   \n 9               3.0                       NaN                          NaN   \n\n     Retention_monthly_Input_var  Inflation_Input_var  \\\n-11                          0.0                  0.0   \n-10                          0.0                  0.0   \n-9                           0.0                  0.0   \n-8                           0.0                  0.0   \n-7                           0.0                  0.0   \n-6                           0.0                  0.0   \n-5                           0.0                  0.0   \n-4                           0.0                  0.0   \n-3                           0.0                  0.0   \n-2                           0.0                  0.0   \n-1                           0.0                  0.0   \n 9                           NaN                  NaN   \n\n     Revenue_share_of_premium_for_new_business_Input_var  \\\n-11                                                0.0     \n-10                                                0.0     \n-9                                                 0.0     \n-8                                                 0.0     \n-7                                                 0.0     \n-6                                                 0.0     \n-5                                                 0.0     \n-4                                                 0.0     \n-3                                                 0.0     \n-2                                                 0.0     \n-1                                                 0.0     \n 9                                                 NaN     \n\n     Revenue_share_of_premium_for_renewal_Input_var  \\\n-11                                             0.0   \n-10                                             0.0   \n-9                                              0.0   \n-8                                              0.0   \n-7                                              0.0   \n-6                                              0.0   \n-5                                              0.0   \n-4                                              0.0   \n-3                                              0.0   \n-2                                              0.0   \n-1                                              0.0   \n 9                                              NaN   \n\n     Underwriting_Relative_to_premium_based_on_improvement_first_yr_Input_var  \\\n-11                                                0.0                          \n-10                                                0.0                          \n-9                                                 0.0                          \n-8                                                 0.0                          \n-7                                                 0.0                          \n-6                                                 0.0                          \n-5                                                 0.0                          \n-4                                                 0.0                          \n-3                                                 0.0                          \n-2                                                 0.0                          \n-1                                                 0.0                          \n 9                                                 NaN                          \n\n     Backoffice_Relative_to_premium_based_on_improvement_first_year_Input_var  \\\n-11                                                0.0                          \n-10                                                0.0                          \n-9                                                 0.0                          \n-8                                                 0.0                          \n-7                                                 0.0                          \n-6                                                 0.0                          \n-5                                                 0.0                          \n-4                                                 0.0                          \n-3                                                 0.0                          \n-2                                                 0.0                          \n-1                                                 0.0                          \n 9                                                 NaN                          \n\n     Distribution_channel_cost_as_share_of_premium_first_year_Input_var  ...  \\\n-11                                                0.0                   ...   \n-10                                                0.0                   ...   \n-9                                                 0.0                   ...   \n-8                                                 0.0                   ...   \n-7                                                 0.0                   ...   \n-6                                                 0.0                   ...   \n-5                                                 0.0                   ...   \n-4                                                 0.0                   ...   \n-3                                                 0.0                   ...   \n-2                                                 0.0                   ...   \n-1                                                 0.0                   ...   \n 9                                                 NaN                   ...   \n\n     MGA_expense_ratio_as_share_of_premium_volume_first_year_Input_var  \\\n-11                                                0.0                   \n-10                                                0.0                   \n-9                                                 0.0                   \n-8                                                 0.0                   \n-7                                                 0.0                   \n-6                                                 0.0                   \n-5                                                 0.0                   \n-4                                                 0.0                   \n-3                                                 0.0                   \n-2                                                 0.0                   \n-1                                                 0.0                   \n 9                                                 NaN                   \n\n     MGA_expense_ratio_as_share_of_premium_volume_next_year_Input_var  \\\n-11                                                0.0                  \n-10                                                0.0                  \n-9                                                 0.0                  \n-8                                                 0.0                  \n-7                                                 0.0                  \n-6                                                 0.0                  \n-5                                                 0.0                  \n-4                                                 0.0                  \n-3                                                 0.0                  \n-2                                                 0.0                  \n-1                                                 0.0                  \n 9                                                 NaN                  \n\n     MGA_outsourcing_cost_ratio_as_share_of_premium_volume_first_year_Input_var  \\\n-11                                                0.0                            \n-10                                                0.0                            \n-9                                                 0.0                            \n-8                                                 0.0                            \n-7                                                 0.0                            \n-6                                                 0.0                            \n-5                                                 0.0                            \n-4                                                 0.0                            \n-3                                                 0.0                            \n-2                                                 0.0                            \n-1                                                 0.0                            \n 9                                                 NaN                            \n\n     MGA_outsourcing_cost_ratio_as_share_of_premium_volume_next_year_Input_var  \\\n-11                                                0.0                           \n-10                                                0.0                           \n-9                                                 0.0                           \n-8                                                 0.0                           \n-7                                                 0.0                           \n-6                                                 0.0                           \n-5                                                 0.0                           \n-4                                                 0.0                           \n-3                                                 0.0                           \n-2                                                 0.0                           \n-1                                                 0.0                           \n 9                                                 NaN                           \n\n     Taxes_as_share_of_net_income_Input_var  \\\n-11                                     0.0   \n-10                                     0.0   \n-9                                      0.0   \n-8                                      0.0   \n-7                                      0.0   \n-6                                      0.0   \n-5                                      0.0   \n-4                                      0.0   \n-3                                      0.0   \n-2                                      0.0   \n-1                                      0.0   \n 9                                      NaN   \n\n     Carrier_loss_on_premium_Input_var  \\\n-11                                0.0   \n-10                                0.0   \n-9                                 0.0   \n-8                                 0.0   \n-7                                 0.0   \n-6                                 0.0   \n-5                                 0.0   \n-4                                 0.0   \n-3                                 0.0   \n-2                                 0.0   \n-1                                 0.0   \n 9                                 NaN   \n\n     Working_capital_ratio_carrier_loss_Input_var  \\\n-11                                           0.0   \n-10                                           0.0   \n-9                                            0.0   \n-8                                            0.0   \n-7                                            0.0   \n-6                                            0.0   \n-5                                            0.0   \n-4                                            0.0   \n-3                                            0.0   \n-2                                            0.0   \n-1                                            0.0   \n 9                                            NaN   \n\n     Working_capital_ratio_Distribution_channel_Input_var  \\\n-11                                                0.0      \n-10                                                0.0      \n-9                                                 0.0      \n-8                                                 0.0      \n-7                                                 0.0      \n-6                                                 0.0      \n-5                                                 0.0      \n-4                                                 0.0      \n-3                                                 0.0      \n-2                                                 0.0      \n-1                                                 0.0      \n 9                                                 NaN      \n\n     Working_capital_ratio_Expenses_Input_var  \\\n-11                                       0.0   \n-10                                       0.0   \n-9                                        0.0   \n-8                                        0.0   \n-7                                        0.0   \n-6                                        0.0   \n-5                                        0.0   \n-4                                        0.0   \n-3                                        0.0   \n-2                                        0.0   \n-1                                        0.0   \n 9                                        NaN   \n\n     Working_capital_ratio_Outsourcing_Input_var  \n-11                                          0.0  \n-10                                          0.0  \n-9                                           0.0  \n-8                                           0.0  \n-7                                           0.0  \n-6                                           0.0  \n-5                                           0.0  \n-4                                           0.0  \n-3                                           0.0  \n-2                                           0.0  \n-1                                           0.0  \n 9                                           NaN  \n\n[12 rows x 21 columns]",
      "text/html": "<div>\n<style scoped>\n    .dataframe tbody tr th:only-of-type {\n        vertical-align: middle;\n    }\n\n    .dataframe tbody tr th {\n        vertical-align: top;\n    }\n\n    .dataframe thead th {\n        text-align: right;\n    }\n</style>\n<table border=\"1\" class=\"dataframe\">\n  <thead>\n    <tr style=\"text-align: right;\">\n      <th></th>\n      <th>Month_Input_var</th>\n      <th>Start_Customer_Input_var</th>\n      <th>Start_avg_premium_Input_var</th>\n      <th>Retention_monthly_Input_var</th>\n      <th>Inflation_Input_var</th>\n      <th>Revenue_share_of_premium_for_new_business_Input_var</th>\n      <th>Revenue_share_of_premium_for_renewal_Input_var</th>\n      <th>Underwriting_Relative_to_premium_based_on_improvement_first_yr_Input_var</th>\n      <th>Backoffice_Relative_to_premium_based_on_improvement_first_year_Input_var</th>\n      <th>Distribution_channel_cost_as_share_of_premium_first_year_Input_var</th>\n      <th>...</th>\n      <th>MGA_expense_ratio_as_share_of_premium_volume_first_year_Input_var</th>\n      <th>MGA_expense_ratio_as_share_of_premium_volume_next_year_Input_var</th>\n      <th>MGA_outsourcing_cost_ratio_as_share_of_premium_volume_first_year_Input_var</th>\n      <th>MGA_outsourcing_cost_ratio_as_share_of_premium_volume_next_year_Input_var</th>\n      <th>Taxes_as_share_of_net_income_Input_var</th>\n      <th>Carrier_loss_on_premium_Input_var</th>\n      <th>Working_capital_ratio_carrier_loss_Input_var</th>\n      <th>Working_capital_ratio_Distribution_channel_Input_var</th>\n      <th>Working_capital_ratio_Expenses_Input_var</th>\n      <th>Working_capital_ratio_Outsourcing_Input_var</th>\n    </tr>\n  </thead>\n  <tbody>\n    <tr>\n      <th>-11</th>\n      <td>0.0</td>\n      <td>0.0</td>\n      <td>0.0</td>\n      <td>0.0</td>\n      <td>0.0</td>\n      <td>0.0</td>\n      <td>0.0</td>\n      <td>0.0</td>\n      <td>0.0</td>\n      <td>0.0</td>\n      <td>...</td>\n      <td>0.0</td>\n      <td>0.0</td>\n      <td>0.0</td>\n      <td>0.0</td>\n      <td>0.0</td>\n      <td>0.0</td>\n      <td>0.0</td>\n      <td>0.0</td>\n      <td>0.0</td>\n      <td>0.0</td>\n    </tr>\n    <tr>\n      <th>-10</th>\n      <td>0.0</td>\n      <td>0.0</td>\n      <td>0.0</td>\n      <td>0.0</td>\n      <td>0.0</td>\n      <td>0.0</td>\n      <td>0.0</td>\n      <td>0.0</td>\n      <td>0.0</td>\n      <td>0.0</td>\n      <td>...</td>\n      <td>0.0</td>\n      <td>0.0</td>\n      <td>0.0</td>\n      <td>0.0</td>\n      <td>0.0</td>\n      <td>0.0</td>\n      <td>0.0</td>\n      <td>0.0</td>\n      <td>0.0</td>\n      <td>0.0</td>\n    </tr>\n    <tr>\n      <th>-9</th>\n      <td>0.0</td>\n      <td>0.0</td>\n      <td>0.0</td>\n      <td>0.0</td>\n      <td>0.0</td>\n      <td>0.0</td>\n      <td>0.0</td>\n      <td>0.0</td>\n      <td>0.0</td>\n      <td>0.0</td>\n      <td>...</td>\n      <td>0.0</td>\n      <td>0.0</td>\n      <td>0.0</td>\n      <td>0.0</td>\n      <td>0.0</td>\n      <td>0.0</td>\n      <td>0.0</td>\n      <td>0.0</td>\n      <td>0.0</td>\n      <td>0.0</td>\n    </tr>\n    <tr>\n      <th>-8</th>\n      <td>0.0</td>\n      <td>0.0</td>\n      <td>0.0</td>\n      <td>0.0</td>\n      <td>0.0</td>\n      <td>0.0</td>\n      <td>0.0</td>\n      <td>0.0</td>\n      <td>0.0</td>\n      <td>0.0</td>\n      <td>...</td>\n      <td>0.0</td>\n      <td>0.0</td>\n      <td>0.0</td>\n      <td>0.0</td>\n      <td>0.0</td>\n      <td>0.0</td>\n      <td>0.0</td>\n      <td>0.0</td>\n      <td>0.0</td>\n      <td>0.0</td>\n    </tr>\n    <tr>\n      <th>-7</th>\n      <td>0.0</td>\n      <td>0.0</td>\n      <td>0.0</td>\n      <td>0.0</td>\n      <td>0.0</td>\n      <td>0.0</td>\n      <td>0.0</td>\n      <td>0.0</td>\n      <td>0.0</td>\n      <td>0.0</td>\n      <td>...</td>\n      <td>0.0</td>\n      <td>0.0</td>\n      <td>0.0</td>\n      <td>0.0</td>\n      <td>0.0</td>\n      <td>0.0</td>\n      <td>0.0</td>\n      <td>0.0</td>\n      <td>0.0</td>\n      <td>0.0</td>\n    </tr>\n    <tr>\n      <th>-6</th>\n      <td>0.0</td>\n      <td>0.0</td>\n      <td>0.0</td>\n      <td>0.0</td>\n      <td>0.0</td>\n      <td>0.0</td>\n      <td>0.0</td>\n      <td>0.0</td>\n      <td>0.0</td>\n      <td>0.0</td>\n      <td>...</td>\n      <td>0.0</td>\n      <td>0.0</td>\n      <td>0.0</td>\n      <td>0.0</td>\n      <td>0.0</td>\n      <td>0.0</td>\n      <td>0.0</td>\n      <td>0.0</td>\n      <td>0.0</td>\n      <td>0.0</td>\n    </tr>\n    <tr>\n      <th>-5</th>\n      <td>0.0</td>\n      <td>0.0</td>\n      <td>0.0</td>\n      <td>0.0</td>\n      <td>0.0</td>\n      <td>0.0</td>\n      <td>0.0</td>\n      <td>0.0</td>\n      <td>0.0</td>\n      <td>0.0</td>\n      <td>...</td>\n      <td>0.0</td>\n      <td>0.0</td>\n      <td>0.0</td>\n      <td>0.0</td>\n      <td>0.0</td>\n      <td>0.0</td>\n      <td>0.0</td>\n      <td>0.0</td>\n      <td>0.0</td>\n      <td>0.0</td>\n    </tr>\n    <tr>\n      <th>-4</th>\n      <td>0.0</td>\n      <td>0.0</td>\n      <td>0.0</td>\n      <td>0.0</td>\n      <td>0.0</td>\n      <td>0.0</td>\n      <td>0.0</td>\n      <td>0.0</td>\n      <td>0.0</td>\n      <td>0.0</td>\n      <td>...</td>\n      <td>0.0</td>\n      <td>0.0</td>\n      <td>0.0</td>\n      <td>0.0</td>\n      <td>0.0</td>\n      <td>0.0</td>\n      <td>0.0</td>\n      <td>0.0</td>\n      <td>0.0</td>\n      <td>0.0</td>\n    </tr>\n    <tr>\n      <th>-3</th>\n      <td>0.0</td>\n      <td>0.0</td>\n      <td>0.0</td>\n      <td>0.0</td>\n      <td>0.0</td>\n      <td>0.0</td>\n      <td>0.0</td>\n      <td>0.0</td>\n      <td>0.0</td>\n      <td>0.0</td>\n      <td>...</td>\n      <td>0.0</td>\n      <td>0.0</td>\n      <td>0.0</td>\n      <td>0.0</td>\n      <td>0.0</td>\n      <td>0.0</td>\n      <td>0.0</td>\n      <td>0.0</td>\n      <td>0.0</td>\n      <td>0.0</td>\n    </tr>\n    <tr>\n      <th>-2</th>\n      <td>0.0</td>\n      <td>0.0</td>\n      <td>0.0</td>\n      <td>0.0</td>\n      <td>0.0</td>\n      <td>0.0</td>\n      <td>0.0</td>\n      <td>0.0</td>\n      <td>0.0</td>\n      <td>0.0</td>\n      <td>...</td>\n      <td>0.0</td>\n      <td>0.0</td>\n      <td>0.0</td>\n      <td>0.0</td>\n      <td>0.0</td>\n      <td>0.0</td>\n      <td>0.0</td>\n      <td>0.0</td>\n      <td>0.0</td>\n      <td>0.0</td>\n    </tr>\n    <tr>\n      <th>-1</th>\n      <td>0.0</td>\n      <td>0.0</td>\n      <td>0.0</td>\n      <td>0.0</td>\n      <td>0.0</td>\n      <td>0.0</td>\n      <td>0.0</td>\n      <td>0.0</td>\n      <td>0.0</td>\n      <td>0.0</td>\n      <td>...</td>\n      <td>0.0</td>\n      <td>0.0</td>\n      <td>0.0</td>\n      <td>0.0</td>\n      <td>0.0</td>\n      <td>0.0</td>\n      <td>0.0</td>\n      <td>0.0</td>\n      <td>0.0</td>\n      <td>0.0</td>\n    </tr>\n    <tr>\n      <th>9</th>\n      <td>3.0</td>\n      <td>NaN</td>\n      <td>NaN</td>\n      <td>NaN</td>\n      <td>NaN</td>\n      <td>NaN</td>\n      <td>NaN</td>\n      <td>NaN</td>\n      <td>NaN</td>\n      <td>NaN</td>\n      <td>...</td>\n      <td>NaN</td>\n      <td>NaN</td>\n      <td>NaN</td>\n      <td>NaN</td>\n      <td>NaN</td>\n      <td>NaN</td>\n      <td>NaN</td>\n      <td>NaN</td>\n      <td>NaN</td>\n      <td>NaN</td>\n    </tr>\n  </tbody>\n</table>\n<p>12 rows × 21 columns</p>\n</div>"
     },
     "execution_count": 119,
     "metadata": {},
     "output_type": "execute_result"
    }
   ],
   "source": [
    "row_to_concat = pd.DataFrame(row_test).transpose()\n",
    "new_row = pd.concat([test_df, row_to_concat])\n",
    "new_row"
   ],
   "metadata": {
    "collapsed": false,
    "pycharm": {
     "name": "#%%\n"
    }
   }
  },
  {
   "cell_type": "code",
   "execution_count": 98,
   "outputs": [],
   "source": [
    "def access_customer_growth_number():\n",
    "    test = pd.read_excel(config.data_path, sheet_name='Customer growth', skiprows=1)\n",
    "    test.index = test['Month']\n",
    "    test_copy = test.transpose()\n",
    "    test_new = test_copy.loc[-12:480].copy()\n",
    "    return test_new"
   ],
   "metadata": {
    "collapsed": false,
    "pycharm": {
     "name": "#%%\n"
    }
   }
  },
  {
   "cell_type": "code",
   "execution_count": 115,
   "outputs": [
    {
     "data": {
      "text/plain": "481"
     },
     "execution_count": 115,
     "metadata": {},
     "output_type": "execute_result"
    }
   ],
   "source": [
    "test = pd.read_excel(config.data_path, sheet_name='Customer growth', skiprows=1)\n",
    "test.index = test['Month']\n",
    "test_copy = test.transpose()\n",
    "test_new = test_copy.loc[0:480].copy()\n",
    "nn = test_new.to_numpy()\n",
    "new_list = [n[0] for n in nn]\n",
    "len(new_list)"
   ],
   "metadata": {
    "collapsed": false,
    "pycharm": {
     "name": "#%%\n"
    }
   }
  }
 ],
 "metadata": {
  "kernelspec": {
   "display_name": "Python 3",
   "language": "python",
   "name": "python3"
  },
  "language_info": {
   "codemirror_mode": {
    "name": "ipython",
    "version": 2
   },
   "file_extension": ".py",
   "mimetype": "text/x-python",
   "name": "python",
   "nbconvert_exporter": "python",
   "pygments_lexer": "ipython2",
   "version": "2.7.6"
  }
 },
 "nbformat": 4,
 "nbformat_minor": 0
}